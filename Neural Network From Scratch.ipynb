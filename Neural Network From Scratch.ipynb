{
 "cells": [
  {
   "cell_type": "code",
   "execution_count": 244,
   "id": "8bc92b5f",
   "metadata": {},
   "outputs": [],
   "source": [
    "#Importation des modules\n",
    "import numpy as np \n",
    "import matplotlib.pyplot as plt\n",
    "import os \n",
    "import cv2 \n",
    "import random"
   ]
  },
  {
   "cell_type": "code",
   "execution_count": 245,
   "id": "0b95d93d",
   "metadata": {},
   "outputs": [],
   "source": [
    "#Chargement du datasets : https://www.microsoft.com/en-us/download/confirmation.aspx?id=54765\n",
    "#On va maintenant mettre en forme les données\n",
    "#Creating data ou Img_Size est la taille des images converties\n",
    "\n",
    "def creating_data(Img_Size):\n",
    "    Datas = []\n",
    "    DATADIR = 'PetImages'\n",
    "    Categories = ['Dog', 'Cat']\n",
    "    for category in Categories : \n",
    "        path = os.path.join(DATADIR, category) #Chemin jusqu'au dossier qui contient des chiens ou des chats\n",
    "        class_num = Categories.index(category) #0 pour les chiens et 1 pour les chats\n",
    "        for img in os.listdir(path):\n",
    "            try :\n",
    "                img_array = cv2.imread(os.path.join(path, img), cv2.IMREAD_GRAYSCALE)\n",
    "                img_array = cv2.resize(img_array, (Img_Size, Img_Size))\n",
    "                Datas.append([img_array, class_num])\n",
    "            except Exception as e : \n",
    "                pass\n",
    "    random.shuffle(Datas)\n",
    "    return Datas \n",
    "            \n",
    "        \n",
    "        \n",
    "    \n",
    "\n"
   ]
  },
  {
   "cell_type": "code",
   "execution_count": 246,
   "id": "9470cec9",
   "metadata": {},
   "outputs": [],
   "source": [
    "Datas = creating_data(48)\n",
    "random.shuffle(Datas)"
   ]
  },
  {
   "cell_type": "code",
   "execution_count": 247,
   "id": "58659546",
   "metadata": {},
   "outputs": [],
   "source": [
    "# Préparer les données et les séparer \n",
    "# Conversion en Tableau Numpy et séparation entre train et test set selon le Split_ratio\n",
    "\n",
    "def prepare_data() : \n",
    "    X, y = [], []\n",
    "    for el in Datas : \n",
    "        X.append(el[0])\n",
    "        y.append(el[1])\n",
    "    X = np.array(X)\n",
    "    X = X/255\n",
    "    X = X.reshape(X.shape[0],-1)\n",
    "    y = np.array(y)\n",
    "    return X, y\n",
    "\n",
    "\n",
    "        "
   ]
  },
  {
   "cell_type": "code",
   "execution_count": 248,
   "id": "fe1e3089",
   "metadata": {},
   "outputs": [
    {
     "name": "stdout",
     "output_type": "stream",
     "text": [
      "[[0.44705882 0.36470588 0.27058824 ... 0.25098039 0.09019608 0.09803922]\n",
      " [0.54509804 0.41960784 0.42745098 ... 0.19607843 0.09803922 0.16078431]\n",
      " [0.63137255 0.63529412 0.61568627 ... 0.58039216 0.60784314 0.71764706]\n",
      " ...\n",
      " [0.74509804 0.72941176 0.70980392 ... 0.93333333 0.96078431 0.92156863]\n",
      " [0.03921569 0.04313725 0.07843137 ... 0.23137255 0.23529412 0.24705882]\n",
      " [0.97647059 0.97647059 0.98431373 ... 0.43921569 0.42352941 0.41960784]]\n"
     ]
    }
   ],
   "source": [
    "X, y = prepare_data()\n",
    "print(X)"
   ]
  },
  {
   "cell_type": "code",
   "execution_count": 249,
   "id": "b7449b9d",
   "metadata": {},
   "outputs": [],
   "source": [
    "def split_data(X, y, train_ratio):\n",
    "    s = int(X.shape[0]*train_ratio)\n",
    "    X_train = X[:s]\n",
    "    y_train = y[:s]\n",
    "    X_test = X[s:]\n",
    "    y_test = y[s:]\n",
    "    return X_train, y_train, X_test, y_test"
   ]
  },
  {
   "cell_type": "code",
   "execution_count": 250,
   "id": "46fda571",
   "metadata": {},
   "outputs": [],
   "source": [
    "X_train, y_train, X_test, y_test = split_data(X, y, 0.8)"
   ]
  },
  {
   "cell_type": "code",
   "execution_count": 251,
   "id": "004e44ff",
   "metadata": {},
   "outputs": [
    {
     "name": "stdout",
     "output_type": "stream",
     "text": [
      "(19956, 2304)\n",
      "[[0.44705882 0.36470588 0.27058824 ... 0.25098039 0.09019608 0.09803922]\n",
      " [0.54509804 0.41960784 0.42745098 ... 0.19607843 0.09803922 0.16078431]\n",
      " [0.63137255 0.63529412 0.61568627 ... 0.58039216 0.60784314 0.71764706]\n",
      " ...\n",
      " [0.3372549  0.6745098  0.30588235 ... 0.71764706 0.72941176 0.7254902 ]\n",
      " [0.79215686 0.78823529 0.78039216 ... 0.71372549 0.71372549 0.7372549 ]\n",
      " [0.51372549 0.89803922 0.74901961 ... 0.98823529 0.99215686 0.99607843]]\n"
     ]
    }
   ],
   "source": [
    "print(X_train.shape)\n",
    "print(X_train)"
   ]
  },
  {
   "cell_type": "code",
   "execution_count": 252,
   "id": "db9145b7",
   "metadata": {},
   "outputs": [],
   "source": [
    "#Les données sont préparées, nous pouvons maintenant créer notre premier neurone : \n",
    "#On commence par un neurone. Il nous faut une fonction init() qui initialise de manière random W et b : \n",
    "def init(X):\n",
    "    W = np.random.randn(X.shape[1])\n",
    "    b = np.random.randn(1)\n",
    "    return W, b"
   ]
  },
  {
   "cell_type": "code",
   "execution_count": null,
   "id": "c1932715",
   "metadata": {},
   "outputs": [],
   "source": []
  },
  {
   "cell_type": "code",
   "execution_count": 253,
   "id": "1b7a3528",
   "metadata": {},
   "outputs": [],
   "source": [
    "#On calcule maintenant le feed_forward du neurone : a(XW + b)\n",
    "def feed_forward(X,W,b) : \n",
    "    Z = X.dot(W) + b\n",
    "    A = 1/(1+np.exp(-Z))\n",
    "    return A"
   ]
  },
  {
   "cell_type": "code",
   "execution_count": 254,
   "id": "51f79016",
   "metadata": {},
   "outputs": [],
   "source": [
    "# On calcul le log_loss \n",
    "# Attention, on passe au modèle une matrice X qui contient toutes les images : il faut diviser par la taille du dataset !\n",
    "#On ajoute un nombre très petit dans les logarithme pour éviter les 0 qui causeraient des erreurs\n",
    "epsilon = 1*10**(-15)\n",
    "def log_loss(A, y) :\n",
    "    return (1/len(y)) * (np.sum(-y*np.log(A+epsilon) - (1-y)*np.log(1-A+epsilon)))"
   ]
  },
  {
   "cell_type": "code",
   "execution_count": 255,
   "id": "9460c1c5",
   "metadata": {},
   "outputs": [],
   "source": [
    "#On calcul le gradient avec la formule donnée\n",
    "\n",
    "def gradients(A,X,y) :\n",
    "    dW = (1/len(y)) * np.dot(X.T, (A-y))\n",
    "    db = (1/len(y))*np.sum(A-y)\n",
    "    return (dW, db)"
   ]
  },
  {
   "cell_type": "code",
   "execution_count": 256,
   "id": "ca6c5479",
   "metadata": {},
   "outputs": [],
   "source": [
    "def update (dW, db, W, b, learning_rate):\n",
    "    W -= learning_rate*dW\n",
    "    b -= learning_rate*db\n",
    "    return (W, b)"
   ]
  },
  {
   "cell_type": "code",
   "execution_count": 257,
   "id": "b04ba274",
   "metadata": {},
   "outputs": [],
   "source": [
    "def predict(X,W,b): \n",
    "    A = feed_forward(X,W,b)\n",
    "    return A>0.5"
   ]
  },
  {
   "cell_type": "code",
   "execution_count": 258,
   "id": "d6f7ca95",
   "metadata": {},
   "outputs": [],
   "source": [
    "from sklearn.metrics import accuracy_score\n",
    "def train(X, y, learning_rate, nb_epochs):\n",
    "    W, b = init(X)\n",
    "    History = []\n",
    "    accuracy = []\n",
    "    for i in range(nb_epochs):\n",
    "        A = feed_forward(X, W, b)\n",
    "        History.append(log_loss(A,y))\n",
    "        dW, db = gradients(A, X, y)\n",
    "        W, b = update(dW, db, W, b, learning_rate)\n",
    "        y_pred = predict(X, W, b)\n",
    "\n",
    "        accuracy.append(accuracy_score(y,y_pred))\n",
    "    return(accuracy,History,W, b)"
   ]
  },
  {
   "cell_type": "code",
   "execution_count": 259,
   "id": "5944a206",
   "metadata": {},
   "outputs": [],
   "source": [
    "acc, hist, W, b = train(X_train,y_train, 0.01, 1000)"
   ]
  },
  {
   "cell_type": "code",
   "execution_count": 260,
   "id": "c1680cdd",
   "metadata": {},
   "outputs": [
    {
     "data": {
      "text/plain": [
       "[<matplotlib.lines.Line2D at 0x173a92157c0>]"
      ]
     },
     "execution_count": 260,
     "metadata": {},
     "output_type": "execute_result"
    },
    {
     "data": {
      "image/png": "[encoded data removed]",
      "text/plain": [
       "<Figure size 640x480 with 2 Axes>"
      ]
     },
     "metadata": {},
     "output_type": "display_data"
    }
   ],
   "source": [
    "plt.figure()\n",
    "plt.subplot(1,2,1)\n",
    "plt.plot(hist)\n",
    "plt.subplot(1,2,2)\n",
    "plt.plot(acc)"
   ]
  },
  {
   "cell_type": "code",
   "execution_count": 261,
   "id": "150ee934",
   "metadata": {},
   "outputs": [],
   "source": [
    "X_train, X_test = X_train.T, X_test.T\n",
    "y_train, y_test = y_train.reshape((1,y_train.shape[0])), y_test.reshape((1,y_test.shape[0]))"
   ]
  },
  {
   "cell_type": "code",
   "execution_count": 262,
   "id": "56fcae5f",
   "metadata": {},
   "outputs": [],
   "source": [
    "def initialisation(n0, n1, n2):\n",
    "\n",
    "    W1 = np.random.randn(n1, n0)\n",
    "    b1 = np.zeros((n1, 1))\n",
    "    W2 = np.random.randn(n2, n1)\n",
    "    b2 = np.zeros((n2, 1))\n",
    "\n",
    "    parametres = {\n",
    "        'W1': W1,\n",
    "        'b1': b1,\n",
    "        'W2': W2,\n",
    "        'b2': b2\n",
    "    }\n",
    "\n",
    "    return parametres"
   ]
  },
  {
   "cell_type": "code",
   "execution_count": 263,
   "id": "7508190b",
   "metadata": {},
   "outputs": [],
   "source": [
    "def forward_propagation(X, parametres):\n",
    "\n",
    "    W1 = parametres['W1']\n",
    "    b1 = parametres['b1']\n",
    "    W2 = parametres['W2']\n",
    "    b2 = parametres['b2']\n",
    "\n",
    "    Z1 = W1.dot(X) + b1\n",
    "    A1 = 1 / (1 + np.exp(-Z1))\n",
    "\n",
    "    Z2 = W2.dot(A1) + b2\n",
    "    A2 = 1 / (1 + np.exp(-Z2))\n",
    "\n",
    "    activations = {\n",
    "        'A1': A1,\n",
    "        'A2': A2\n",
    "    }\n",
    "\n",
    "    return activations"
   ]
  },
  {
   "cell_type": "code",
   "execution_count": 264,
   "id": "ebe42b2f",
   "metadata": {},
   "outputs": [],
   "source": [
    "def back_propagation(X, y, parametres, activations):\n",
    "\n",
    "    A1 = activations['A1']\n",
    "    A2 = activations['A2']\n",
    "    W2 = parametres['W2']\n",
    "\n",
    "    m = y.shape[1]\n",
    "\n",
    "    dZ2 = A2 - y\n",
    "    dW2 = 1 / m * dZ2.dot(A1.T)\n",
    "    db2 = 1 / m * np.sum(dZ2, axis=1, keepdims = True)\n",
    "\n",
    "    dZ1 = np.dot(W2.T, dZ2) * A1 * (1 - A1)\n",
    "    dW1 = 1 / m * dZ1.dot(X.T)\n",
    "    db1 = 1 / m * np.sum(dZ1, axis=1, keepdims = True)\n",
    "\n",
    "    gradients = {\n",
    "        'dW1' : dW1,\n",
    "        'db1' : db1,\n",
    "        'dW2' : dW2,\n",
    "        'db2' : db2\n",
    "    }\n",
    "    \n",
    "    return gradients"
   ]
  },
  {
   "cell_type": "code",
   "execution_count": 265,
   "id": "385105f6",
   "metadata": {},
   "outputs": [],
   "source": [
    "def update(gradients, parametres, learning_rate):\n",
    "\n",
    "    W1 = parametres['W1']\n",
    "    b1 = parametres['b1']\n",
    "    W2 = parametres['W2']\n",
    "    b2 = parametres['b2']\n",
    "\n",
    "    dW1 = gradients['dW1']\n",
    "    db1 = gradients['db1']\n",
    "    dW2 = gradients['dW2']\n",
    "    db2 = gradients['db2']\n",
    "\n",
    "    W1 = W1 - learning_rate * dW1\n",
    "    b1 = b1 - learning_rate * db1\n",
    "    W2 = W2 - learning_rate * dW2\n",
    "    b2 = b2 - learning_rate * db2\n",
    "\n",
    "    parametres = {\n",
    "        'W1': W1,\n",
    "        'b1': b1,\n",
    "        'W2': W2,\n",
    "        'b2': b2\n",
    "    }\n",
    "\n",
    "    return parametres"
   ]
  },
  {
   "cell_type": "code",
   "execution_count": 266,
   "id": "d4b8c578",
   "metadata": {},
   "outputs": [],
   "source": [
    "def predict(X, parametres):\n",
    "    activations = forward_propagation(X, parametres)\n",
    "    A2 = activations['A2']\n",
    "    return A2 >= 0.5"
   ]
  },
  {
   "cell_type": "code",
   "execution_count": 267,
   "id": "63a9f4f1",
   "metadata": {},
   "outputs": [],
   "source": [
    "import tqdm"
   ]
  },
  {
   "cell_type": "code",
   "execution_count": 285,
   "id": "0521aba9",
   "metadata": {},
   "outputs": [],
   "source": [
    "def neural_network(X, y,X_test,y_test, n1=100, learning_rate = 0.1, n_iter = 10000):\n",
    "\n",
    "\n",
    "    n0 = X.shape[0]\n",
    "    n2 = y.shape[0]\n",
    "    np.random.seed(0)\n",
    "    parametres = initialisation(n0, n1, n2)\n",
    "\n",
    "    train_loss = []\n",
    "    test_loss = []\n",
    "    train_acc = []\n",
    "    test_acc = []\n",
    "    history = []\n",
    "\n",
    "\n",
    "    for i in range(n_iter):\n",
    "        activations = forward_propagation(X, parametres)\n",
    "        A2 = activations['A2']\n",
    "        test_activations = forward_propagation(X_test, parametres)\n",
    "        A2_test = test_activations['A2']\n",
    "        \n",
    "        if (i%10 == 0):\n",
    "            train_loss.append(log_loss(y.flatten(), A2.flatten()))\n",
    "            test_loss.append(log_loss(y_test.flatten(),A2_test.flatten()))\n",
    "            y_pred = predict(X, parametres)\n",
    "            y_test_pred = predict(X_test, parametres)\n",
    "            train_acc.append(accuracy_score(y.flatten(), y_pred.flatten()))\n",
    "            test_acc.append(accuracy_score(y_test.flatten(),y_test_pred.flatten()))\n",
    "        \n",
    "            history.append([parametres.copy(), train_loss, train_acc,test_loss, test_acc, i])\n",
    "\n",
    "\n",
    "        gradients = back_propagation(X, y, parametres, activations)\n",
    "        parametres = update(gradients, parametres, learning_rate)\n",
    "\n",
    "\n",
    "    return parametres, train_loss, train_acc, test_loss, test_acc"
   ]
  },
  {
   "cell_type": "code",
   "execution_count": 290,
   "id": "c554b49b",
   "metadata": {},
   "outputs": [
    {
     "ename": "KeyboardInterrupt",
     "evalue": "",
     "output_type": "error",
     "traceback": [
      "\u001b[1;31m---------------------------------------------------------------------------\u001b[0m",
      "\u001b[1;31mKeyboardInterrupt\u001b[0m                         Traceback (most recent call last)",
      "\u001b[1;32m~\\AppData\\Local\\Temp\\ipykernel_29328\\2774725297.py\u001b[0m in \u001b[0;36m<module>\u001b[1;34m\u001b[0m\n\u001b[1;32m----> 1\u001b[1;33m \u001b[0mparametres\u001b[0m\u001b[1;33m,\u001b[0m \u001b[0mtrain_loss\u001b[0m\u001b[1;33m,\u001b[0m \u001b[0mtrain_acc\u001b[0m\u001b[1;33m,\u001b[0m \u001b[0mtest_loss\u001b[0m\u001b[1;33m,\u001b[0m \u001b[0mtest_acc\u001b[0m \u001b[1;33m=\u001b[0m \u001b[0mneural_network\u001b[0m\u001b[1;33m(\u001b[0m\u001b[0mX_train\u001b[0m\u001b[1;33m,\u001b[0m \u001b[0my_train\u001b[0m\u001b[1;33m,\u001b[0m\u001b[0mX_test\u001b[0m\u001b[1;33m,\u001b[0m \u001b[0my_test\u001b[0m\u001b[1;33m,\u001b[0m \u001b[0mn1\u001b[0m\u001b[1;33m=\u001b[0m\u001b[1;36m32\u001b[0m\u001b[1;33m)\u001b[0m\u001b[1;33m\u001b[0m\u001b[1;33m\u001b[0m\u001b[0m\n\u001b[0m\u001b[0;32m      2\u001b[0m \u001b[0mplt\u001b[0m\u001b[1;33m.\u001b[0m\u001b[0mfigure\u001b[0m\u001b[1;33m(\u001b[0m\u001b[1;33m)\u001b[0m\u001b[1;33m\u001b[0m\u001b[1;33m\u001b[0m\u001b[0m\n\u001b[0;32m      3\u001b[0m \u001b[0mplt\u001b[0m\u001b[1;33m.\u001b[0m\u001b[0msubplot\u001b[0m\u001b[1;33m(\u001b[0m\u001b[1;36m1\u001b[0m\u001b[1;33m,\u001b[0m\u001b[1;36m2\u001b[0m\u001b[1;33m,\u001b[0m\u001b[1;36m1\u001b[0m\u001b[1;33m)\u001b[0m\u001b[1;33m\u001b[0m\u001b[1;33m\u001b[0m\u001b[0m\n\u001b[0;32m      4\u001b[0m \u001b[0mplt\u001b[0m\u001b[1;33m.\u001b[0m\u001b[0mplot\u001b[0m\u001b[1;33m(\u001b[0m\u001b[0mtrain_loss\u001b[0m\u001b[1;33m)\u001b[0m\u001b[1;33m\u001b[0m\u001b[1;33m\u001b[0m\u001b[0m\n\u001b[0;32m      5\u001b[0m \u001b[0mplt\u001b[0m\u001b[1;33m.\u001b[0m\u001b[0mxlabel\u001b[0m\u001b[1;33m(\u001b[0m\u001b[1;34m\"epochs\"\u001b[0m\u001b[1;33m)\u001b[0m\u001b[1;33m\u001b[0m\u001b[1;33m\u001b[0m\u001b[0m\n",
      "\u001b[1;32m~\\AppData\\Local\\Temp\\ipykernel_29328\\1548226102.py\u001b[0m in \u001b[0;36mneural_network\u001b[1;34m(X, y, X_test, y_test, n1, learning_rate, n_iter)\u001b[0m\n\u001b[0;32m     17\u001b[0m         \u001b[0mactivations\u001b[0m \u001b[1;33m=\u001b[0m \u001b[0mforward_propagation\u001b[0m\u001b[1;33m(\u001b[0m\u001b[0mX\u001b[0m\u001b[1;33m,\u001b[0m \u001b[0mparametres\u001b[0m\u001b[1;33m)\u001b[0m\u001b[1;33m\u001b[0m\u001b[1;33m\u001b[0m\u001b[0m\n\u001b[0;32m     18\u001b[0m         \u001b[0mA2\u001b[0m \u001b[1;33m=\u001b[0m \u001b[0mactivations\u001b[0m\u001b[1;33m[\u001b[0m\u001b[1;34m'A2'\u001b[0m\u001b[1;33m]\u001b[0m\u001b[1;33m\u001b[0m\u001b[1;33m\u001b[0m\u001b[0m\n\u001b[1;32m---> 19\u001b[1;33m         \u001b[0mtest_activations\u001b[0m \u001b[1;33m=\u001b[0m \u001b[0mforward_propagation\u001b[0m\u001b[1;33m(\u001b[0m\u001b[0mX_test\u001b[0m\u001b[1;33m,\u001b[0m \u001b[0mparametres\u001b[0m\u001b[1;33m)\u001b[0m\u001b[1;33m\u001b[0m\u001b[1;33m\u001b[0m\u001b[0m\n\u001b[0m\u001b[0;32m     20\u001b[0m         \u001b[0mA2_test\u001b[0m \u001b[1;33m=\u001b[0m \u001b[0mtest_activations\u001b[0m\u001b[1;33m[\u001b[0m\u001b[1;34m'A2'\u001b[0m\u001b[1;33m]\u001b[0m\u001b[1;33m\u001b[0m\u001b[1;33m\u001b[0m\u001b[0m\n\u001b[0;32m     21\u001b[0m \u001b[1;33m\u001b[0m\u001b[0m\n",
      "\u001b[1;32m~\\AppData\\Local\\Temp\\ipykernel_29328\\86029915.py\u001b[0m in \u001b[0;36mforward_propagation\u001b[1;34m(X, parametres)\u001b[0m\n\u001b[0;32m      6\u001b[0m     \u001b[0mb2\u001b[0m \u001b[1;33m=\u001b[0m \u001b[0mparametres\u001b[0m\u001b[1;33m[\u001b[0m\u001b[1;34m'b2'\u001b[0m\u001b[1;33m]\u001b[0m\u001b[1;33m\u001b[0m\u001b[1;33m\u001b[0m\u001b[0m\n\u001b[0;32m      7\u001b[0m \u001b[1;33m\u001b[0m\u001b[0m\n\u001b[1;32m----> 8\u001b[1;33m     \u001b[0mZ1\u001b[0m \u001b[1;33m=\u001b[0m \u001b[0mW1\u001b[0m\u001b[1;33m.\u001b[0m\u001b[0mdot\u001b[0m\u001b[1;33m(\u001b[0m\u001b[0mX\u001b[0m\u001b[1;33m)\u001b[0m \u001b[1;33m+\u001b[0m \u001b[0mb1\u001b[0m\u001b[1;33m\u001b[0m\u001b[1;33m\u001b[0m\u001b[0m\n\u001b[0m\u001b[0;32m      9\u001b[0m     \u001b[0mA1\u001b[0m \u001b[1;33m=\u001b[0m \u001b[1;36m1\u001b[0m \u001b[1;33m/\u001b[0m \u001b[1;33m(\u001b[0m\u001b[1;36m1\u001b[0m \u001b[1;33m+\u001b[0m \u001b[0mnp\u001b[0m\u001b[1;33m.\u001b[0m\u001b[0mexp\u001b[0m\u001b[1;33m(\u001b[0m\u001b[1;33m-\u001b[0m\u001b[0mZ1\u001b[0m\u001b[1;33m)\u001b[0m\u001b[1;33m)\u001b[0m\u001b[1;33m\u001b[0m\u001b[1;33m\u001b[0m\u001b[0m\n\u001b[0;32m     10\u001b[0m \u001b[1;33m\u001b[0m\u001b[0m\n",
      "\u001b[1;31mKeyboardInterrupt\u001b[0m: "
     ]
    }
   ],
   "source": [
    "parametres, train_loss, train_acc, test_loss, test_acc = neural_network(X_train, y_train,X_test, y_test, n1=32)\n",
    "plt.figure()\n",
    "plt.subplot(1,2,1)\n",
    "plt.plot(train_loss)\n",
    "plt.xlabel(\"epochs\")\n",
    "plt.ylabel(\"train_loss\")\n",
    "plt.plot(test_loss)\n",
    "plt.subplot(1,2,2)\n",
    "plt.plot(train_acc)\n",
    "plt.plot(test_acc)"
   ]
  },
  {
   "cell_type": "code",
   "execution_count": 308,
   "id": "029f7279",
   "metadata": {},
   "outputs": [
    {
     "data": {
      "image/png": "[encoded data removed]",
      "text/plain": [
       "<Figure size 1000x400 with 2 Axes>"
      ]
     },
     "metadata": {},
     "output_type": "display_data"
    }
   ],
   "source": [
    "fig, axis = plt.subplots(1,2)\n",
    "#fig.suptitle('Accuracy and loss')\n",
    "\n",
    "axis[0].plot(train_loss)\n",
    "axis[0].plot(test_loss)\n",
    "axis[0].set_title('Model Loss')\n",
    "axis[0].set_ylabel('Loss')\n",
    "axis[0].set_xlabel('epoch')\n",
    "axis[0].legend(['train', 'test'])\n",
    "\n",
    "axis[1].plot(train_acc)\n",
    "axis[1].plot(test_acc)\n",
    "axis[1].set_title('Model acc')\n",
    "axis[1].set_ylabel('acc')\n",
    "axis[1].set_xlabel('epoch')\n",
    "axis[1].legend(['train', 'test'])\n",
    "\n",
    "fig.set_size_inches(10, 4)"
   ]
  },
  {
   "cell_type": "code",
   "execution_count": null,
   "id": "e2cd067d",
   "metadata": {},
   "outputs": [],
   "source": []
  }
 ],
 "metadata": {
  "kernelspec": {
   "display_name": "Python 3 (ipykernel)",
   "language": "python",
   "name": "python3"
  },
  "language_info": {
   "codemirror_mode": {
    "name": "ipython",
    "version": 3
   },
   "file_extension": ".py",
   "mimetype": "text/x-python",
   "name": "python",
   "nbconvert_exporter": "python",
   "pygments_lexer": "ipython3",
   "version": "3.9.7"
  }
 },
 "nbformat": 4,
 "nbformat_minor": 5
}
